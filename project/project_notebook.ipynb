{
 "metadata": {
  "language_info": {
   "codemirror_mode": {
    "name": "ipython",
    "version": 3
   },
   "file_extension": ".py",
   "mimetype": "text/x-python",
   "name": "python",
   "nbconvert_exporter": "python",
   "pygments_lexer": "ipython3",
   "version": "3.9.2"
  },
  "orig_nbformat": 2,
  "kernelspec": {
   "name": "python3",
   "display_name": "Python 3.9.2 64-bit",
   "metadata": {
    "interpreter": {
     "hash": "b694e184ab59b6b0d17f98adbc89c259efff9a9414d3f3ae8a63cb70de076e39"
    }
   }
  }
 },
 "nbformat": 4,
 "nbformat_minor": 2,
 "cells": [
  {
   "cell_type": "code",
   "execution_count": 110,
   "metadata": {},
   "outputs": [],
   "source": [
    "import requests\n",
    "import numpy as np\n",
    "import pandas as pd\n",
    "import scaleapi\n",
    "import json\n",
    "from datetime import datetime\n",
    "import math\n",
    "import sys\n",
    "from scaleapi.tasks import TaskReviewStatus, TaskStatus\n"
   ]
  },
  {
   "cell_type": "code",
   "execution_count": 12,
   "metadata": {},
   "outputs": [],
   "source": [
    "api_key=\"live_ed802f9607c14973a63a0b5ebefafcad\" # Live one"
   ]
  },
  {
   "cell_type": "code",
   "execution_count": 10,
   "metadata": {
    "tags": [
     "outputPrepend"
    ]
   },
   "outputs": [
    {
     "output_type": "stream",
     "name": "stdout",
     "text": [
      "lback_url\":\"http://example.com/callback\",\"response\":{\"annotations\":{\"url\":\"https://scaleapi-attachments.s3.amazonaws.com/54fbf7a0-82b5-11e7-9862-bbb3c9da12a1-3\"},\"is_customer_fix\":false},\"updated_at\":\"2020-08-06T23:52:48.500Z\",\"work_started\":false},{\"task_id\":\"5f2c975f821f620016339fee\",\"created_at\":\"2020-08-06T23:50:55.640Z\",\"completed_at\":\"2020-08-06T23:50:55.864Z\",\"type\":\"lidarannotation\",\"status\":\"completed\",\"instruction\":\"Please label all cars, pedestrians, and cyclists in each frame.\",\"params\":{\"attachment_type\":\"json\",\"attachments\":[\"https://test124124.s3-ca-central-1.amazonaws.com/srnvs123/frames/frame_0.json\",\"https://test124124.s3-ca-central-1.amazonaws.com/srnvs123/frames/frame_1.json\",\"https://test124124.s3-ca-central-1.amazonaws.com/srnvs123/frames/frame_2.json\"],\"labels\":[\"car\",\"pedestrian\",\"cyclist\"],\"max_distance_meters\":30,\"meters_per_unit\":1,\"labeling_sample_rate\":1},\"is_test\":true,\"urgency\":\"standard\",\"metadata\":{},\"processed_attachments\":[],\"project\":\"Scale AI_default_lidarannotation\",\"callback_url\":\"http://example.com/callback\",\"response\":{\"annotations\":{\"url\":\"https://scaleapi-attachments.s3.amazonaws.com/54fbf7a0-82b5-11e7-9862-bbb3c9da12a1-3\"},\"is_customer_fix\":false},\"updated_at\":\"2020-08-06T23:50:55.935Z\",\"work_started\":false},{\"task_id\":\"5f2c96c6fc706a00107b5101\",\"created_at\":\"2020-08-06T23:48:22.158Z\",\"completed_at\":\"2020-08-06T23:48:22.371Z\",\"type\":\"lidarannotation\",\"status\":\"completed\",\"instruction\":\"Please label all cars, pedestrians, and cyclists in each frame.\",\"params\":{\"attachment_type\":\"json\",\"attachments\":[\"https://test124124.s3-ca-central-1.amazonaws.com/srnvs123/frames/frame_0.json\",\"https://test124124.s3-ca-central-1.amazonaws.com/srnvs123/frames/frame_1.json\",\"https://test124124.s3-ca-central-1.amazonaws.com/srnvs123/frames/frame_2.json\"],\"labels\":[\"car\",\"pedestrian\",\"cyclist\"],\"max_distance_meters\":30,\"meters_per_unit\":1,\"labeling_sample_rate\":1},\"is_test\":true,\"urgency\":\"standard\",\"metadata\":{},\"processed_attachments\":[],\"project\":\"Scale AI_default_lidarannotation\",\"callback_url\":\"http://example.com/callback\",\"response\":{\"annotations\":{\"url\":\"https://scaleapi-attachments.s3.amazonaws.com/54fbf7a0-82b5-11e7-9862-bbb3c9da12a1-3\"},\"is_customer_fix\":false},\"updated_at\":\"2020-08-06T23:48:22.450Z\",\"work_started\":false},{\"task_id\":\"5f2c95b5fc706a00107b502b\",\"created_at\":\"2020-08-06T23:43:49.125Z\",\"completed_at\":\"2020-08-06T23:43:49.337Z\",\"type\":\"lidarannotation\",\"status\":\"completed\",\"instruction\":\"Please label all cars, pedestrians, and cyclists in each frame.\",\"params\":{\"attachment_type\":\"json\",\"attachments\":[\"https://test124124.s3-ca-central-1.amazonaws.com/srnvs123/frames/frame_0.json\",\"https://test124124.s3-ca-central-1.amazonaws.com/srnvs123/frames/frame_1.json\",\"https://test124124.s3-ca-central-1.amazonaws.com/srnvs123/frames/frame_2.json\"],\"labels\":[\"car\",\"pedestrian\",\"cyclist\"],\"max_distance_meters\":30,\"meters_per_unit\":1,\"labeling_sample_rate\":1},\"is_test\":true,\"urgency\":\"standard\",\"metadata\":{},\"processed_attachments\":[],\"project\":\"Scale AI_default_lidarannotation\",\"callback_url\":\"http://example.com/callback\",\"response\":{\"annotations\":{\"url\":\"https://scaleapi-attachments.s3.amazonaws.com/54fbf7a0-82b5-11e7-9862-bbb3c9da12a1-3\"},\"is_customer_fix\":false},\"updated_at\":\"2020-08-06T23:43:49.412Z\",\"work_started\":false},{\"task_id\":\"5f2c89ffbb01940016dbea4a\",\"created_at\":\"2020-08-06T22:53:51.063Z\",\"completed_at\":\"2020-08-06T22:53:51.273Z\",\"type\":\"lidarannotation\",\"status\":\"completed\",\"instruction\":\"Please label all cars, pedestrians, and cyclists in each frame.\",\"params\":{\"attachment_type\":\"json\",\"attachments\":[\"https://test124124.s3-ca-central-1.amazonaws.com/srnvs123/frames/frame_0.json\",\"https://test124124.s3-ca-central-1.amazonaws.com/srnvs123/frames/frame_1.json\",\"https://test124124.s3-ca-central-1.amazonaws.com/srnvs123/frames/frame_2.json\"],\"labels\":[\"car\",\"pedestrian\",\"cyclist\"],\"max_distance_meters\":30,\"meters_per_unit\":1,\"labeling_sample_rate\":1},\"is_test\":true,\"urgency\":\"standard\",\"metadata\":{},\"processed_attachments\":[],\"project\":\"Scale AI_default_lidarannotation\",\"callback_url\":\"http://example.com/callback\",\"response\":{\"annotations\":{\"url\":\"https://scaleapi-attachments.s3.amazonaws.com/54fbf7a0-82b5-11e7-9862-bbb3c9da12a1-3\"},\"is_customer_fix\":false},\"updated_at\":\"2020-08-06T22:53:51.348Z\",\"work_started\":false},{\"task_id\":\"5f2c8822d80cd80016a98f90\",\"created_at\":\"2020-08-06T22:45:54.080Z\",\"completed_at\":\"2020-08-06T22:45:54.294Z\",\"type\":\"lidarannotation\",\"status\":\"completed\",\"instruction\":\"Please label all cars, pedestrians, and cyclists in each frame.\",\"params\":{\"attachment_type\":\"json\",\"attachments\":[\"https://test124124.s3-ca-central-1.amazonaws.com/srnvs123/frames/frame_0.json\",\"https://test124124.s3-ca-central-1.amazonaws.com/srnvs123/frames/frame_1.json\",\"https://test124124.s3-ca-central-1.amazonaws.com/srnvs123/frames/frame_2.json\"],\"labels\":[\"car\",\"pedestrian\",\"cyclist\"],\"max_distance_meters\":30,\"meters_per_unit\":1,\"labeling_sample_rate\":1},\"is_test\":true,\"urgency\":\"standard\",\"metadata\":{},\"processed_attachments\":[],\"project\":\"Scale AI_default_lidarannotation\",\"callback_url\":\"http://example.com/callback\",\"response\":{\"annotations\":{\"url\":\"https://scaleapi-attachments.s3.amazonaws.com/54fbf7a0-82b5-11e7-9862-bbb3c9da12a1-3\"},\"is_customer_fix\":false},\"updated_at\":\"2020-08-06T22:45:54.367Z\",\"work_started\":false},{\"task_id\":\"5f2c85bad781df00178d51f8\",\"created_at\":\"2020-08-06T22:35:38.310Z\",\"completed_at\":\"2020-08-06T22:35:38.553Z\",\"type\":\"lidarannotation\",\"status\":\"completed\",\"instruction\":\"Please label all cars, pedestrians, and cyclists in each frame.\",\"params\":{\"attachment_type\":\"json\",\"attachments\":[\"https://fe-hiring.s3-us-west-2.amazonaws.com/YOUR+NAME/frames/frame_0.json\",\"https://fe-hiring.s3-us-west-2.amazonaws.com/YOUR+NAME/frames/frame_1.json\",\"https://fe-hiring.s3-us-west-2.amazonaws.com/YOUR+NAME/frames/frame_2.json\"],\"labels\":[\"car\",\"pedestrian\",\"cyclist\"],\"max_distance_meters\":30,\"meters_per_unit\":1,\"labeling_sample_rate\":1},\"is_test\":true,\"urgency\":\"standard\",\"metadata\":{},\"processed_attachments\":[],\"project\":\"Scale AI_default_lidarannotation\",\"callback_url\":\"http://example.com/callback\",\"response\":{\"annotations\":{\"url\":\"https://scaleapi-attachments.s3.amazonaws.com/54fbf7a0-82b5-11e7-9862-bbb3c9da12a1-3\"},\"is_customer_fix\":false},\"updated_at\":\"2020-08-06T22:35:38.652Z\",\"work_started\":false},{\"task_id\":\"5f2c7f3cbc3ed4001772fcbd\",\"created_at\":\"2020-08-06T22:07:57.008Z\",\"completed_at\":\"2020-08-06T22:07:57.217Z\",\"type\":\"lidarannotation\",\"status\":\"completed\",\"instruction\":\"Please label all cars, pedestrians, and cyclists in each frame.\",\"params\":{\"attachment_type\":\"json\",\"attachments\":[\"https://test124124.s3-ca-central-1.amazonaws.com/SrikanthSrinivas/frames/frame_0.json\",\"https://test124124.s3-ca-central-1.amazonaws.com/SrikanthSrinivas/frames/frame_1.json\",\"https://test124124.s3-ca-central-1.amazonaws.com/SrikanthSrinivas/frames/frame_2.json\"],\"labels\":[\"car\",\"pedestrian\",\"cyclist\"],\"max_distance_meters\":30,\"meters_per_unit\":1,\"labeling_sample_rate\":1},\"is_test\":true,\"urgency\":\"standard\",\"metadata\":{},\"processed_attachments\":[],\"project\":\"Scale AI_default_lidarannotation\",\"callback_url\":\"http://example.com/callback\",\"response\":{\"annotations\":{\"url\":\"https://scaleapi-attachments.s3.amazonaws.com/54fbf7a0-82b5-11e7-9862-bbb3c9da12a1-3\"},\"is_customer_fix\":false},\"updated_at\":\"2020-08-06T22:07:57.310Z\",\"work_started\":false},{\"task_id\":\"5f2c79af9db66c0016f9438f\",\"created_at\":\"2020-08-06T21:44:15.519Z\",\"completed_at\":\"2020-08-06T21:44:15.751Z\",\"type\":\"lidarannotation\",\"status\":\"completed\",\"instruction\":\"Please label all cars, pedestrians, and cyclists in each frame.\",\"params\":{\"attachment_type\":\"json\",\"attachments\":[\"https://test124124.s3-ca-central-1.amazonaws.com/SrikanthSrinivas/frames/frame_0.json\",\"https://test124124.s3-ca-central-1.amazonaws.com/SrikanthSrinivas/frames/frame_1.json\",\"https://test124124.s3-ca-central-1.amazonaws.com/SrikanthSrinivas/frames/frame_2.json\"],\"labels\":[\"car\",\"pedestrian\",\"cyclist\"],\"max_distance_meters\":30,\"meters_per_unit\":1,\"labeling_sample_rate\":1},\"is_test\":true,\"urgency\":\"standard\",\"metadata\":{},\"processed_attachments\":[],\"project\":\"Scale AI_default_lidarannotation\",\"callback_url\":\"http://example.com/callback\",\"response\":{\"annotations\":{\"url\":\"https://scaleapi-attachments.s3.amazonaws.com/54fbf7a0-82b5-11e7-9862-bbb3c9da12a1-3\"},\"is_customer_fix\":false},\"updated_at\":\"2020-08-06T21:44:15.825Z\",\"work_started\":false},{\"task_id\":\"5f2c77c09db66c0016f94244\",\"created_at\":\"2020-08-06T21:36:00.966Z\",\"completed_at\":\"2020-08-06T21:36:01.183Z\",\"type\":\"lidarannotation\",\"status\":\"completed\",\"instruction\":\"Please label all cars, pedestrians, and cyclists in each frame.\",\"params\":{\"attachment_type\":\"json\",\"attachments\":[\"https://test124124.s3-ca-central-1.amazonaws.com/SrikanthSrinivas/frames/frame_0.json\",\"https://test124124.s3-ca-central-1.amazonaws.com/SrikanthSrinivas/frames/frame_1.json\",\"https://test124124.s3-ca-central-1.amazonaws.com/SrikanthSrinivas/frames/frame_2.json\"],\"labels\":[\"car\",\"pedestrian\",\"cyclist\"],\"max_distance_meters\":30,\"meters_per_unit\":1,\"labeling_sample_rate\":1},\"is_test\":true,\"urgency\":\"standard\",\"metadata\":{},\"processed_attachments\":[],\"project\":\"Scale AI_default_lidarannotation\",\"callback_url\":\"http://example.com/callback\",\"response\":{\"annotations\":{\"url\":\"https://scaleapi-attachments.s3.amazonaws.com/54fbf7a0-82b5-11e7-9862-bbb3c9da12a1-3\"},\"is_customer_fix\":false},\"updated_at\":\"2020-08-06T21:36:01.258Z\",\"work_started\":false},{\"task_id\":\"5f2c76809b6fe000161a559d\",\"created_at\":\"2020-08-06T21:30:40.702Z\",\"completed_at\":\"2020-08-06T21:30:40.925Z\",\"type\":\"lidarannotation\",\"status\":\"completed\",\"instruction\":\"Please label all cars, pedestrians, and cyclists in each frame.\",\"params\":{\"attachment_type\":\"json\",\"attachments\":[\"https://test124124.s3-ca-central-1.amazonaws.com/SrikanthSrinivas/frames/frame_0.json\",\"https://test124124.s3-ca-central-1.amazonaws.com/SrikanthSrinivas/frames/frame_1.json\",\"https://test124124.s3-ca-central-1.amazonaws.com/SrikanthSrinivas/frames/frame_2.json\"],\"labels\":[\"car\",\"pedestrian\",\"cyclist\"],\"max_distance_meters\":30,\"meters_per_unit\":1,\"labeling_sample_rate\":1},\"is_test\":true,\"urgency\":\"standard\",\"metadata\":{},\"processed_attachments\":[],\"project\":\"Scale AI_default_lidarannotation\",\"callback_url\":\"http://example.com/callback\",\"response\":{\"annotations\":{\"url\":\"https://scaleapi-attachments.s3.amazonaws.com/54fbf7a0-82b5-11e7-9862-bbb3c9da12a1-3\"},\"is_customer_fix\":false},\"updated_at\":\"2020-08-06T21:30:41.006Z\",\"work_started\":false},{\"task_id\":\"5f2c746b0523d00010a5aac9\",\"created_at\":\"2020-08-06T21:21:47.129Z\",\"completed_at\":\"2020-08-06T21:21:47.336Z\",\"type\":\"lidarannotation\",\"status\":\"completed\",\"instruction\":\"Please label all cars, pedestrians, and cyclists in each frame.\",\"params\":{\"attachment_type\":\"json\",\"attachments\":[\"https://test124124.s3-ca-central-1.amazonaws.com/SrikanthSrinivas/frames/frame_0.json\",\"https://test124124.s3-ca-central-1.amazonaws.com/SrikanthSrinivas/frames/frame_1.json\",\"https://test124124.s3-ca-central-1.amazonaws.com/SrikanthSrinivas/frames/frame_2.json\"],\"labels\":[\"car\",\"pedestrian\",\"cyclist\"],\"max_distance_meters\":30,\"meters_per_unit\":1,\"labeling_sample_rate\":1},\"is_test\":true,\"urgency\":\"standard\",\"metadata\":{},\"processed_attachments\":[],\"project\":\"Scale AI_default_lidarannotation\",\"callback_url\":\"http://example.com/callback\",\"response\":{\"annotations\":{\"url\":\"https://scaleapi-attachments.s3.amazonaws.com/54fbf7a0-82b5-11e7-9862-bbb3c9da12a1-3\"},\"is_customer_fix\":false},\"updated_at\":\"2020-08-06T21:21:47.413Z\",\"work_started\":false},{\"task_id\":\"5f2c5d9a9b6fe000161a3cb0\",\"created_at\":\"2020-08-06T19:44:26.184Z\",\"completed_at\":\"2020-08-06T19:44:26.407Z\",\"type\":\"lidarannotation\",\"status\":\"completed\",\"instruction\":\"Please label all cars, pedestrians, and cyclists in each frame.\",\"params\":{\"attachment_type\":\"json\",\"attachments\":[\"https://test124124.s3-ca-central-1.amazonaws.com/SrikanthSrinivas/frames/frame_0.json\",\"https://test124124.s3-ca-central-1.amazonaws.com/SrikanthSrinivas/frames/frame_1.json\",\"https://test124124.s3-ca-central-1.amazonaws.com/SrikanthSrinivas/frames/frame_2.json\"],\"labels\":[\"car\",\"pedestrian\",\"cyclist\"],\"max_distance_meters\":30,\"meters_per_unit\":1,\"labeling_sample_rate\":1},\"is_test\":true,\"urgency\":\"standard\",\"metadata\":{},\"processed_attachments\":[],\"project\":\"Scale AI_default_lidarannotation\",\"callback_url\":\"http://example.com/callback\",\"response\":{\"annotations\":{\"url\":\"https://scaleapi-attachments.s3.amazonaws.com/54fbf7a0-82b5-11e7-9862-bbb3c9da12a1-3\"},\"is_customer_fix\":false},\"updated_at\":\"2020-08-06T19:44:26.491Z\",\"work_started\":false},{\"task_id\":\"5f2c5a13f940b8001007feba\",\"created_at\":\"2020-08-06T19:29:23.884Z\",\"completed_at\":\"2020-08-06T19:29:24.188Z\",\"type\":\"lidarannotation\",\"status\":\"completed\",\"instruction\":\"Please label all cars, pedestrians, and cyclists in each frame.\",\"params\":{\"attachment_type\":\"json\",\"attachments\":[\"https://test124124.s3-ca-central-1.amazonaws.com/SrikanthSrinivas/frames/frame_0.json\",\"https://test124124.s3-ca-central-1.amazonaws.com/SrikanthSrinivas/frames/frame_1.json\",\"https://test124124.s3-ca-central-1.amazonaws.com/SrikanthSrinivas/frames/frame_2.json\"],\"labels\":[\"car\",\"pedestrian\",\"cyclist\"],\"max_distance_meters\":30,\"meters_per_unit\":1,\"labeling_sample_rate\":1},\"is_test\":true,\"urgency\":\"standard\",\"metadata\":{},\"processed_attachments\":[],\"project\":\"Scale AI_default_lidarannotation\",\"callback_url\":\"http://example.com/callback\",\"response\":{\"annotations\":{\"url\":\"https://scaleapi-attachments.s3.amazonaws.com/54fbf7a0-82b5-11e7-9862-bbb3c9da12a1-3\"},\"is_customer_fix\":false},\"updated_at\":\"2020-08-06T19:29:24.259Z\",\"work_started\":false},{\"task_id\":\"5f2c5688127f720010129f0b\",\"created_at\":\"2020-08-06T19:14:16.293Z\",\"completed_at\":\"2020-08-06T19:14:16.519Z\",\"type\":\"lidarannotation\",\"status\":\"completed\",\"instruction\":\"Please label all cars, pedestrians, and cyclists in each frame.\",\"params\":{\"attachment_type\":\"json\",\"attachments\":[\"https://test124124.s3-ca-central-1.amazonaws.com/SrikanthSrinivas/frames/frame_0.json\",\"https://test124124.s3-ca-central-1.amazonaws.com/SrikanthSrinivas/frames/frame_1.json\",\"https://test124124.s3-ca-central-1.amazonaws.com/SrikanthSrinivas/frames/frame_2.json\"],\"labels\":[\"car\",\"pedestrian\",\"cyclist\"],\"max_distance_meters\":30,\"meters_per_unit\":1,\"labeling_sample_rate\":1},\"is_test\":true,\"urgency\":\"standard\",\"metadata\":{},\"processed_attachments\":[],\"project\":\"Scale AI_default_lidarannotation\",\"callback_url\":\"http://example.com/callback\",\"response\":{\"annotations\":{\"url\":\"https://scaleapi-attachments.s3.amazonaws.com/54fbf7a0-82b5-11e7-9862-bbb3c9da12a1-3\"},\"is_customer_fix\":false},\"updated_at\":\"2020-08-06T19:14:16.603Z\",\"work_started\":false},{\"task_id\":\"5f2c523737de6f0016239553\",\"created_at\":\"2020-08-06T18:55:51.519Z\",\"completed_at\":\"2020-08-06T18:55:51.742Z\",\"type\":\"lidarannotation\",\"status\":\"completed\",\"instruction\":\"Please label all cars, pedestrians, and cyclists in each frame.\",\"params\":{\"attachment_type\":\"json\",\"attachments\":[\"https://test124124.s3-ca-central-1.amazonaws.com/SrikanthSrinivas/frames/frame_0.json\",\"https://test124124.s3-ca-central-1.amazonaws.com/SrikanthSrinivas/frames/frame_1.json\",\"https://test124124.s3-ca-central-1.amazonaws.com/SrikanthSrinivas/frames/frame_2.json\"],\"labels\":[\"car\",\"pedestrian\",\"cyclist\"],\"max_distance_meters\":30,\"meters_per_unit\":1,\"labeling_sample_rate\":1},\"is_test\":true,\"urgency\":\"standard\",\"metadata\":{},\"processed_attachments\":[],\"project\":\"Scale AI_default_lidarannotation\",\"callback_url\":\"http://example.com/callback\",\"response\":{\"annotations\":{\"url\":\"https://scaleapi-attachments.s3.amazonaws.com/54fbf7a0-82b5-11e7-9862-bbb3c9da12a1-3\"},\"is_customer_fix\":false},\"updated_at\":\"2020-08-06T18:55:51.816Z\",\"work_started\":false},{\"task_id\":\"5f2c44d2f940b8001007ea94\",\"created_at\":\"2020-08-06T17:58:42.111Z\",\"completed_at\":\"2020-08-06T17:58:42.287Z\",\"type\":\"lidarannotation\",\"status\":\"completed\",\"instruction\":\"Please label all cars, pedestrians, and cyclists in each frame.\",\"params\":{\"attachment_type\":\"json\",\"attachments\":[\"https://test124124.s3-ca-central-1.amazonaws.com/SrikanthSrinivas/frames/frame_0.json\",\"https://test124124.s3-ca-central-1.amazonaws.com/SrikanthSrinivas/frames/frame_1.json\",\"https://test124124.s3-ca-central-1.amazonaws.com/SrikanthSrinivas/frames/frame_2.json\"],\"labels\":[\"car\",\"pedestrian\",\"cyclist\"],\"max_distance_meters\":30,\"meters_per_unit\":1,\"labeling_sample_rate\":1},\"is_test\":true,\"urgency\":\"standard\",\"metadata\":{},\"processed_attachments\":[],\"project\":\"Scale AI_default_lidarannotation\",\"callback_url\":\"http://example.com/callback\",\"response\":{\"annotations\":{\"url\":\"https://scaleapi-attachments.s3.amazonaws.com/54fbf7a0-82b5-11e7-9862-bbb3c9da12a1-3\"},\"is_customer_fix\":false},\"updated_at\":\"2020-08-06T17:58:42.359Z\",\"work_started\":false},{\"task_id\":\"5f2c1979dc0b2400106cb58c\",\"created_at\":\"2020-08-06T14:53:45.755Z\",\"completed_at\":\"2020-08-06T14:53:45.937Z\",\"type\":\"lidarannotation\",\"status\":\"completed\",\"instruction\":\"Please label all cars, pedestrians, and cyclists in each frame.\",\"params\":{\"attachment_type\":\"json\",\"attachments\":[\"https://fe-hiring.s3-us-west-2.amazonaws.com/SrikanthSrinivas/frames/frame_0.json\",\"https://fe-hiring.s3-us-west-2.amazonaws.com/SrikanthSrinivas/frames/frame_1.json\",\"https://fe-hiring.s3-us-west-2.amazonaws.com/SrikanthSrinivas/frames/frame_2.json\"],\"labels\":[\"car\",\"pedestrian\",\"cyclist\"],\"max_distance_meters\":30,\"meters_per_unit\":1,\"labeling_sample_rate\":1},\"is_test\":true,\"urgency\":\"standard\",\"metadata\":{},\"processed_attachments\":[],\"project\":\"Scale AI_default_lidarannotation\",\"callback_url\":\"http://example.com/callback\",\"response\":{\"annotations\":{\"url\":\"https://scaleapi-attachments.s3.amazonaws.com/54fbf7a0-82b5-11e7-9862-bbb3c9da12a1-3\"},\"is_customer_fix\":false},\"updated_at\":\"2020-08-06T14:53:46.033Z\",\"work_started\":false},{\"task_id\":\"5f246051ce15da0011640de4\",\"created_at\":\"2020-07-31T18:17:53.286Z\",\"completed_at\":\"2020-07-31T18:17:53.500Z\",\"type\":\"lidarannotation\",\"status\":\"completed\",\"instruction\":\"Please label all cars, pedestrians, and cyclists in each frame.\",\"params\":{\"attachment_type\":\"json\",\"attachments\":[\"https://fe-hiring.s3-us-west-2.amazonaws.com/AkshaySwaminathan/frames/frame_0.json\",\"https://fe-hiring.s3-us-west-2.amazonaws.com/AkshaySwaminathan/frames/frame_1.json\",\"https://fe-hiring.s3-us-west-2.amazonaws.com/AkshaySwaminathan/frames/frame_2.json\"],\"labels\":[\"car\",\"pedestrian\",\"cyclist\"],\"max_distance_meters\":30,\"meters_per_unit\":1,\"labeling_sample_rate\":1},\"is_test\":true,\"urgency\":\"standard\",\"metadata\":{},\"processed_attachments\":[],\"project\":\"Scale AI_default_lidarannotation\",\"callback_url\":\"http://example.com/callback\",\"response\":{\"annotations\":{\"url\":\"https://scaleapi-attachments.s3.amazonaws.com/54fbf7a0-82b5-11e7-9862-bbb3c9da12a1-3\"},\"is_customer_fix\":false},\"updated_at\":\"2020-07-31T18:17:53.575Z\",\"work_started\":false},{\"task_id\":\"5f23ad01a2907c00168f5de5\",\"created_at\":\"2020-07-31T05:32:49.579Z\",\"completed_at\":\"2020-07-31T05:32:49.811Z\",\"type\":\"lidarannotation\",\"status\":\"completed\",\"instruction\":\"Please label all cars, pedestrians, and cyclists in each frame.\",\"params\":{\"attachment_type\":\"json\",\"attachments\":[\"https://fe-hiring.s3-us-west-2.amazonaws.com/BobbyBattista/frames/frame_0.json\",\"https://fe-hiring.s3-us-west-2.amazonaws.com/BobbyBattista/frames/frame_1.json\",\"https://fe-hiring.s3-us-west-2.amazonaws.com/BobbyBattista/frames/frame_2.json\"],\"labels\":[\"car\",\"pedestrian\",\"cyclist\"],\"max_distance_meters\":30,\"meters_per_unit\":1,\"labeling_sample_rate\":1},\"is_test\":true,\"urgency\":\"standard\",\"metadata\":{},\"processed_attachments\":[],\"project\":\"Scale AI_default_lidarannotation\",\"callback_url\":\"http://example.com/callback\",\"response\":{\"annotations\":{\"url\":\"https://scaleapi-attachments.s3.amazonaws.com/54fbf7a0-82b5-11e7-9862-bbb3c9da12a1-3\"},\"is_customer_fix\":false},\"updated_at\":\"2020-07-31T05:32:49.901Z\",\"work_started\":false}],\"total\":63,\"offset\":0,\"limit\":100,\"has_more\":false}\n"
     ]
    }
   ],
   "source": [
    "import requests\n",
    "from requests.auth import HTTPBasicAuth\n",
    "\n",
    "url = \"https://api.scale.com/v1/tasks\"\n",
    "\n",
    "headers = {\"Accept\": \"application/json\"}\n",
    "\n",
    "auth = HTTPBasicAuth('test_4e8dee75fcdb4c0f95d6b40ee3ccd3e1', '') # No password\n",
    "\n",
    "response = requests.request(\"GET\", url, headers=headers, auth=auth)\n",
    "\n",
    "print(response.text)"
   ]
  },
  {
   "cell_type": "code",
   "execution_count": 77,
   "metadata": {},
   "outputs": [
    {
     "output_type": "stream",
     "name": "stdout",
     "text": [
      "{\"status_code\":401,\"error\":\"You are not providing your API key through basic auth or your API key is malformed.\"}\n"
     ]
    }
   ],
   "source": [
    "\n",
    "\n",
    "url = \"https://api.scale.com/v1/projects\"\n",
    "\n",
    "authorization = api_key\n",
    "headers = {\n",
    "    \"Accept\": \"application/json\",\n",
    "    \"Authorization\": authorization\n",
    "}\n",
    "\n",
    "response = requests.request(\"GET\", url, headers=headers)\n",
    "\n",
    "print(response.text)\n",
    "# return response.json"
   ]
  },
  {
   "cell_type": "code",
   "execution_count": 78,
   "metadata": {},
   "outputs": [],
   "source": [
    "client = scaleapi.ScaleClient(api_key)\n"
   ]
  },
  {
   "cell_type": "code",
   "execution_count": 79,
   "metadata": {},
   "outputs": [],
   "source": [
    "def list_projects(client):\n",
    "    project_limit = 6\n",
    "    num_projects = 0\n",
    "    projects = client.projects()\n",
    "    for project in projects:\n",
    "        counter += 1\n",
    "        print(f'Downloading project {counter} | {project.name} | {project.type}')"
   ]
  },
  {
   "cell_type": "code",
   "execution_count": 105,
   "metadata": {},
   "outputs": [
    {
     "output_type": "stream",
     "name": "stdout",
     "text": [
      "8 tasks retrieved\n"
     ]
    },
    {
     "output_type": "execute_result",
     "data": {
      "text/plain": [
       "(['5f127f6f26831d0010e985e5',\n",
       "  '5f127f6c3a6b1000172320ad',\n",
       "  '5f127f699740b80017f9b170',\n",
       "  '5f127f671ab28b001762c204',\n",
       "  '5f127f643a6b1000172320a5',\n",
       "  '5f127f5f3a6b100017232099',\n",
       "  '5f127f5ab1cb1300109e4ffc',\n",
       "  '5f127f55fdc4150010e37244'],\n",
       " 8)"
      ]
     },
     "metadata": {},
     "execution_count": 105
    }
   ],
   "source": [
    "def list_tasks(client, project_name=\"Traffic Sign Detection\"):\n",
    "    tasks = client.get_tasks(\n",
    "        project_name = project_name\n",
    "    )\n",
    "    num_tasks=0\n",
    "    task_ids = []\n",
    "    # Iterating through the generator\n",
    "    for task in tasks:\n",
    "        # Download task or do something!\n",
    "        num_tasks = num_tasks+1\n",
    "        task_ids.append(task.task_id)\n",
    "        # print(task.task_id)\n",
    "\n",
    "    # For retrieving results as a Task list\n",
    "    task_list = list(tasks)\n",
    "    print(str(num_tasks)+\" tasks retrieved\")\n",
    "    return task_ids, num_tasks\n",
    "list_tasks(client)"
   ]
  },
  {
   "cell_type": "code",
   "execution_count": 81,
   "metadata": {},
   "outputs": [
    {
     "output_type": "error",
     "ename": "SyntaxError",
     "evalue": "invalid syntax (<ipython-input-81-09059a9b0b14>, line 3)",
     "traceback": [
      "\u001b[0;36m  File \u001b[0;32m\"<ipython-input-81-09059a9b0b14>\"\u001b[0;36m, line \u001b[0;32m3\u001b[0m\n\u001b[0;31m    }\u001b[0m\n\u001b[0m    ^\u001b[0m\n\u001b[0;31mSyntaxError\u001b[0m\u001b[0;31m:\u001b[0m invalid syntax\n"
     ]
    }
   ],
   "source": [
    "flag_output = {\n",
    "    \"task_id\" : \n",
    "}"
   ]
  },
  {
   "cell_type": "code",
   "execution_count": 143,
   "metadata": {},
   "outputs": [
    {
     "output_type": "stream",
     "name": "stdout",
     "text": [
      "completed\nNum unique labels: 4\n5f127f6f26831d0010e985e5 {'task_id': '5f127f6f26831d0010e985e5', 'task': Task({'task_id': '5f127f6f26831d0010e985e5', 'created_at': '2020-07-18T04:49:51.129Z', 'completed_at': '2020-07-18T05:03:26.917Z', 'type': 'annotation', 'status': 'completed', 'instruction': 'Draw a tight box around each object.', 'params': {'attachment': 'https://observesign.s3-us-west-2.amazonaws.com/traffic_sign_1.jpg', 'attachment_type': 'image', 'objects_to_annotate': ['traffic_control_sign', 'construction_sign', 'information_sign', 'policy_sign', 'non_visible_face'], 'with_labels': True, 'min_width': 0, 'min_height': 0, 'examples': [], 'annotation_attributes': {'occlusion': {'description': 'What percent of the object is occluded?', 'choices': ['0%', '25%', '50%', '75%', '100%']}, 'truncation': {'description': 'What percent of the object is truncated?', 'choices': ['0%', '25%', '50%', '75%', '100%']}, 'background_color': {'description': 'What color is the background of the sign?', 'choices': ['white', 'red', 'orange', 'yellow', 'green', 'blue', 'other', 'not_applicable']}}}, 'is_test': False, 'urgency': 'standard', 'metadata': {}, 'processed_attachments': [], 'project': 'Traffic Sign Detection', 'customer_review_status': 'accepted', 'customer_review_comments': ['', '', '', ''], 'prior_responses': [], 'callback_url': 'https://example.com/callback', 'response': {'annotations': [{'label': 'policy_sign', 'attributes': {'occlusion': '0%', 'truncation': '0%', 'background_color': 'white'}, 'uuid': '50fde071-d81d-4a21-8315-e831d5263b8f', 'width': 12, 'height': 17, 'geometry': 'box', 'left': 1173, 'top': 460}, {'label': 'information_sign', 'attributes': {'occlusion': '0%', 'truncation': '0%', 'background_color': 'green'}, 'uuid': 'c436c3c5-fb04-43b9-9679-30e0345c0837', 'width': 95, 'height': 54, 'geometry': 'box', 'left': 893, 'top': 316}, {'label': 'information_sign', 'attributes': {'occlusion': '0%', 'truncation': '0%', 'background_color': 'green'}, 'uuid': '0e8ce7a9-d203-4618-99be-8a63a10514e0', 'width': 114, 'height': 100, 'geometry': 'box', 'left': 690, 'top': 294}, {'label': 'traffic_control_sign', 'attributes': {'occlusion': '0%', 'truncation': '0%', 'background_color': 'yellow'}, 'uuid': 'ada7893a-3ee1-4d69-b06b-87240a9522cd', 'width': 15, 'height': 14, 'geometry': 'box', 'left': 874, 'top': 446}, {'label': 'information_sign', 'attributes': {'occlusion': '0%', 'truncation': '0%', 'background_color': 'green'}, 'uuid': '2deb7dd7-cf6d-4080-8a29-cdc085541b49', 'width': 11, 'height': 7, 'geometry': 'box', 'left': 748, 'top': 428}, {'label': 'information_sign', 'attributes': {'occlusion': '25%', 'truncation': '0%', 'background_color': 'green'}, 'uuid': '1e418b05-398c-42a2-95b5-b88da7f9a145', 'width': 11, 'height': 9, 'geometry': 'box', 'left': 728, 'top': 425}, {'label': 'information_sign', 'attributes': {'occlusion': '50%', 'truncation': '0%', 'background_color': 'green'}, 'uuid': '89e6b03e-1e6c-4ca3-9bc5-2660c1ddd768', 'width': 34, 'height': 13, 'geometry': 'box', 'left': 659, 'top': 435}, {'label': 'information_sign', 'attributes': {'occlusion': '0%', 'truncation': '0%', 'background_color': 'yellow'}, 'uuid': 'df8c17ab-5055-480f-a75b-70561997b60b', 'width': 44, 'height': 41, 'geometry': 'box', 'left': 651, 'top': 440}, {'label': 'information_sign', 'attributes': {'occlusion': '0%', 'truncation': '0%', 'background_color': 'green'}, 'uuid': '78878895-cd3d-41ee-a980-f113f189fe6a', 'width': 37, 'height': 15, 'geometry': 'box', 'left': 612, 'top': 436}, {'label': 'non_visible_face', 'attributes': {'occlusion': '25%', 'truncation': '0%', 'background_color': 'not_applicable'}, 'uuid': '5d0f3488-135c-4757-b121-43cce10726c8', 'width': 29, 'height': 22, 'geometry': 'box', 'left': 574, 'top': 429}, {'label': 'non_visible_face', 'attributes': {'occlusion': '25%', 'truncation': '0%', 'background_color': 'not_applicable'}, 'uuid': '1076a071-ba89-4bf5-8249-aa5e641992e4', 'width': 9, 'height': 11, 'geometry': 'box', 'left': 381, 'top': 408}, {'label': 'non_visible_face', 'attributes': {'occlusion': '25%', 'background_color': 'not_applicable', 'truncation': '0%'}, 'uuid': 'a9cc3478-b9f9-480b-bd32-cbb9c4e10af6', 'width': 9, 'height': 9, 'geometry': 'box', 'left': 429, 'top': 415}, {'label': 'non_visible_face', 'attributes': {'occlusion': '50%', 'truncation': '0%', 'background_color': 'not_applicable'}, 'uuid': '1b048402-5527-4b89-8a76-09fbe61735a0', 'width': 21, 'height': 13, 'geometry': 'box', 'left': 452, 'top': 411}], 'global_attributes': {}, 'is_customer_fix': False}, 'customer_reviewed_by': 'fieldengineering+observesign@scale.com', 'customer_audit_time_secs': 91.088, 'customer_audit_active_time_secs': 85.087, 'customer_audited_at': '2021-10-13T05:59:06.682Z', 'audits': [{'audited_by': 'fieldengineering+observesign@scale.com', 'audited_at': '2021-10-13T05:59:06.682Z', 'audit_time_secs': 91.088, 'audit_active_time_secs': 85.087, 'audit_result': 'accepted', 'audit_source': 'customer'}, {'audited_by': 'fieldengineering+observesign@scale.com', 'audited_at': '2021-09-13T15:20:05.164Z', 'audit_time_secs': 10.517, 'audit_active_time_secs': 10.517, 'audit_result': 'accepted', 'audit_source': 'customer'}, {'audited_by': 'fieldengineering+observesign@scale.com', 'audited_at': '2020-11-11T04:48:29.551Z', 'audit_time_secs': 93.192, 'audit_result': 'accepted', 'audit_source': 'customer'}, {'audited_by': 'fieldengineering+observesign@scale.com', 'audited_at': '2020-11-09T23:20:44.665Z', 'audit_time_secs': 22.009, 'audit_result': 'accepted', 'audit_source': 'customer'}], 'assignedSession': 'fieldengineering+observesign@scale.com', 'updated_at': '2021-10-19T08:28:56.157Z', 'work_started': True}), 'num_unique_labels': 4}\n"
     ]
    }
   ],
   "source": [
    "def get_task(task_id='5f127f6f26831d0010e985e5'):\n",
    "    task = client.get_task(task_id)\n",
    "\n",
    "    print(task.status)  # Task status (\"pending\", \"completed\", \"error\", \"canceled\")\n",
    "    if(task.status == \"completed\"):\n",
    "        return task_id, task\n",
    "        #do stuff like get number of \n",
    "    # print(task.response) # If task is complete\n",
    "    # print(json_object)\n",
    "    # print(task.response['annotations'])\n",
    "    else: \n",
    "        print(\"Task not complete.\")\n",
    "        #print error here\n",
    "task_id, task = get_task()\n",
    "\n",
    "def get_num_unique_labels(task):\n",
    "    tasks_df = pd.DataFrame(task.response['annotations'])\n",
    "    num_unique_labels = len(pd.unique(tasks_df['label']))\n",
    "    print(\"Num unique labels: \"+str(num_unique_labels))\n",
    "    return num_unique_labels\n",
    "num_unique_labels = get_num_unique_labels(task)\n",
    "\n",
    "def create_dict(task_id, task, num_unique_labels):\n",
    "    output_dict = {\n",
    "            \"task_id\" : task_id,\n",
    "            \"task\" : task,\n",
    "            \"num_unique_labels\": num_unique_labels\n",
    "    }\n",
    "    \n",
    "    # print(output_dict)\n",
    "    return task_id,output_dict\n",
    "task_id,entry = create_dict(task_id,task,num_unique_labels)\n",
    "\n",
    "\n",
    "# Average here can be changed to median, anything really to improve this tool\n",
    "def create_output_dict(task_id, task, num_unique_labels, average):\n",
    "    if(num_unique_labels < average):\n",
    "        flag = True\n",
    "    else:\n",
    "        flag = False\n",
    "\n",
    "    output_dict = {\n",
    "            \"task_id\" : task_id,\n",
    "            \"average_unique_labels\" : average,\n",
    "            \"num_unique_labels\": num_unique_labels,\n",
    "            \"flag\": flag\n",
    "    }\n",
    "    return output_dict\n",
    "\n",
    "print(task_id, entry)"
   ]
  },
  {
   "cell_type": "code",
   "execution_count": 148,
   "metadata": {
    "tags": []
   },
   "outputs": [
    {
     "output_type": "stream",
     "name": "stdout",
     "text": [
      "8 tasks retrieved\n",
      "completed\n",
      "Num unique labels: 4\n",
      "completed\n",
      "Num unique labels: 4\n",
      "completed\n",
      "Num unique labels: 2\n",
      "completed\n",
      "Num unique labels: 4\n",
      "completed\n",
      "Num unique labels: 4\n",
      "completed\n",
      "Num unique labels: 5\n",
      "completed\n",
      "Num unique labels: 4\n",
      "completed\n",
      "Num unique labels: 4\n",
      "Average unique labels: 4\n",
      "dict_keys(['5f127f6f26831d0010e985e5', '5f127f6c3a6b1000172320ad', '5f127f699740b80017f9b170', '5f127f671ab28b001762c204', '5f127f643a6b1000172320a5', '5f127f5f3a6b100017232099', '5f127f5ab1cb1300109e4ffc', '5f127f55fdc4150010e37244'])\n",
      "A 'True' status indicates that a task needs to be reviewed.\n",
      "5f127f6f26831d0010e985e5 : False\n",
      "5f127f6c3a6b1000172320ad : False\n",
      "5f127f699740b80017f9b170 : True\n",
      "5f127f671ab28b001762c204 : False\n",
      "5f127f643a6b1000172320a5 : False\n",
      "5f127f5f3a6b100017232099 : False\n",
      "5f127f5ab1cb1300109e4ffc : False\n",
      "5f127f55fdc4150010e37244 : False\n",
      "{\n",
      "    \"5f127f6f26831d0010e985e5\": {\n",
      "        \"task_id\": \"5f127f6f26831d0010e985e5\",\n",
      "        \"average_unique_labels\": 4,\n",
      "        \"num_unique_labels\": 4,\n",
      "        \"flag\": false\n",
      "    },\n",
      "    \"5f127f6c3a6b1000172320ad\": {\n",
      "        \"task_id\": \"5f127f6c3a6b1000172320ad\",\n",
      "        \"average_unique_labels\": 4,\n",
      "        \"num_unique_labels\": 4,\n",
      "        \"flag\": false\n",
      "    },\n",
      "    \"5f127f699740b80017f9b170\": {\n",
      "        \"task_id\": \"5f127f699740b80017f9b170\",\n",
      "        \"average_unique_labels\": 4,\n",
      "        \"num_unique_labels\": 2,\n",
      "        \"flag\": true\n",
      "    },\n",
      "    \"5f127f671ab28b001762c204\": {\n",
      "        \"task_id\": \"5f127f671ab28b001762c204\",\n",
      "        \"average_unique_labels\": 4,\n",
      "        \"num_unique_labels\": 4,\n",
      "        \"flag\": false\n",
      "    },\n",
      "    \"5f127f643a6b1000172320a5\": {\n",
      "        \"task_id\": \"5f127f643a6b1000172320a5\",\n",
      "        \"average_unique_labels\": 4,\n",
      "        \"num_unique_labels\": 4,\n",
      "        \"flag\": false\n",
      "    },\n",
      "    \"5f127f5f3a6b100017232099\": {\n",
      "        \"task_id\": \"5f127f5f3a6b100017232099\",\n",
      "        \"average_unique_labels\": 4,\n",
      "        \"num_unique_labels\": 5,\n",
      "        \"flag\": false\n",
      "    },\n",
      "    \"5f127f5ab1cb1300109e4ffc\": {\n",
      "        \"task_id\": \"5f127f5ab1cb1300109e4ffc\",\n",
      "        \"average_unique_labels\": 4,\n",
      "        \"num_unique_labels\": 4,\n",
      "        \"flag\": false\n",
      "    },\n",
      "    \"5f127f55fdc4150010e37244\": {\n",
      "        \"task_id\": \"5f127f55fdc4150010e37244\",\n",
      "        \"average_unique_labels\": 4,\n",
      "        \"num_unique_labels\": 4,\n",
      "        \"flag\": false\n",
      "    }\n",
      "}\n"
     ]
    }
   ],
   "source": [
    "def main():\n",
    "    unique_labels_dict = {}\n",
    "    num_unique_labels_sum = 0\n",
    "    tasks, num_tasks = list_tasks(client)\n",
    "\n",
    "    # many ways to optimize here - either do it with moving average, median number of label types or another method like assuming normal distribution and find exptected number of label types\n",
    "    for task_id in tasks:\n",
    "        task_id, task = get_task(task_id=task_id)\n",
    "        num_unique_labels = get_num_unique_labels(task)\n",
    "        num_unique_labels_sum = num_unique_labels_sum + num_unique_labels\n",
    "        task_id, value = create_dict(task_id,task,num_unique_labels)\n",
    "        unique_labels_dict[task_id] = value\n",
    "\n",
    "    average_unique_labels = math.ceil(num_unique_labels_sum/num_tasks)\n",
    "\n",
    "    print(\"Average unique labels: \" +str(average_unique_labels))\n",
    "    output_dict = {}\n",
    "    for task_id in tasks:\n",
    "        output_dict[task_id] = create_output_dict(\n",
    "            task_id = unique_labels_dict[task_id]['task_id'], \n",
    "            task=unique_labels_dict[task_id]['task'],            \n",
    "            num_unique_labels=unique_labels_dict[task_id]['num_unique_labels'], \n",
    "            average=average_unique_labels\n",
    "        )\n",
    "    print(output_dict.keys())\n",
    "\n",
    "    print(\"A 'True' status indicates that a task needs to be reviewed.\")\n",
    "    for task_id in tasks:\n",
    "        print(str(task_id)+\" : \"+str(output_dict[task_id]['flag']))\n",
    "    make_output(output_dict)\n",
    "\n",
    "def make_output(output_dict):\n",
    "    # Makes new output folder\n",
    "    path = os.getcwd()\n",
    "    newpath = path+\"/output/\"\n",
    "    if not os.path.exists(newpath):\n",
    "        os.makedirs(newpath)\n",
    "\n",
    "    # Makes output json file\n",
    "    now = datetime.now()\n",
    "    dt_string = now.strftime(\"%d/%m/%Y %H:%M:%S\")\n",
    "    json_object = json.dumps(output_dict, indent = 4) \n",
    "    print(json_object)\n",
    "    filename =  \"./output/variety_flags.json\"\n",
    "    with open(filename, \"w\") as outfile:\n",
    "        json.dump(output_dict, outfile)\n",
    "main()\n"
   ]
  },
  {
   "cell_type": "code",
   "execution_count": null,
   "metadata": {},
   "outputs": [],
   "source": []
  },
  {
   "cell_type": "code",
   "execution_count": null,
   "metadata": {},
   "outputs": [],
   "source": []
  }
 ]
}